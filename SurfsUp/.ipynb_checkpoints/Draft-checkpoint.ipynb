{
 "cells": [
  {
   "cell_type": "code",
   "execution_count": 26,
   "id": "13bc4735",
   "metadata": {},
   "outputs": [],
   "source": [
    "# Import the dependencies.\n",
    "\n",
    "import matplotlib.pyplot as plt\n",
    "from matplotlib.dates import DateFormatter\n",
    "\n",
    "import numpy as np\n",
    "import pandas as pd\n",
    "import datetime as dt\n",
    "\n",
    "import sqlalchemy\n",
    "from sqlalchemy.ext.automap import automap_base\n",
    "from sqlalchemy.orm import Session\n",
    "from sqlalchemy import create_engine, func, text, inspect\n",
    "\n",
    "from flask import Flask, jsonify\n",
    "\n",
    "#################################################\n",
    "# Database Setup\n",
    "#################################################\n",
    "\n",
    "engine = create_engine(\"sqlite:///Resources/hawaii.sqlite\")\n",
    "\n",
    "# reflect an existing database into a new model\n",
    "Base = automap_base()\n",
    "# reflect the tables\n",
    "Base.prepare(autoload_with=engine)\n",
    "\n",
    "# Save references to each table\n",
    "measurement = Base.classes.measurement\n",
    "station  = Base.classes.station\n",
    "\n",
    "# Create our session (link) from Python to the DB\n",
    "session = Session(engine)\n",
    "conn = engine.connect()"
   ]
  },
  {
   "cell_type": "code",
   "execution_count": 38,
   "id": "6c1e2f4e",
   "metadata": {},
   "outputs": [],
   "source": [
    "session = Session(engine)\n",
    "conn = engine.connect()\n",
    "stations_df = pd.read_sql(\"SELECT * FROM station WHERE station.station IN ( SELECT station FROM measurement )\", conn)\n",
    "\n",
    "# Close session\n",
    "session.close()\n",
    "    \n",
    "col_names = stations_df.columns\n",
    "station_return = []\n",
    "for i in range(len(stations_df)):\n",
    "    station_dict = {}\n",
    "    for j in range(len(col_names)):\n",
    "        station_dict[ col_names[j] ] = str(stations_df.iloc[ i , j])\n",
    "    station_return.append( station_dict )"
   ]
  },
  {
   "cell_type": "code",
   "execution_count": 41,
   "id": "73ac0c85",
   "metadata": {},
   "outputs": [],
   "source": [
    "session = Session(engine)\n",
    "    \n",
    "    # Design a query to retrieve the last 12 months of precipitation data and plot the results. \n",
    "    # Starting from the most recent data point in the database.\n",
    "latest_date = session.query(measurement.date).order_by(measurement.date.desc()).first()\n",
    "latest_date = [ i for i in latest_date ][0]\n",
    "    \n",
    "    # Calculate the date one year from the last date in data set.\n",
    "start_date = dt.datetime.strptime( latest_date, \"%Y-%m-%d\") - dt.timedelta(days = 365)\n",
    "start_date = start_date.strftime(\"%Y-%m-%d\")\n",
    "    \n",
    "    # Most active station\n",
    "active_id = session.query( measurement.station ).group_by(measurement.station).order_by( func.count(measurement.station).desc() ).first()\n",
    "active_id = [ i for i in active_id ][0]\n",
    "    \n",
    "    # last 12 monthes for most active station\n",
    "active_temp = session.query(measurement.date, measurement.tobs).filter( measurement.station==active_id ).filter( measurement.date >= start_date ).all()\n",
    "    \n",
    "    # Close session\n",
    "session.close()\n"
   ]
  },
  {
   "cell_type": "code",
   "execution_count": null,
   "id": "79fd4158",
   "metadata": {},
   "outputs": [],
   "source": [
    "active_temp = pd.DataFrame(active_temp)\n",
    "\n",
    "station_temp = {}   \n",
    "for i in range( len(active_temp) ):\n",
    "    station_temp[ active_temp.loc[i, \"date\"] ]=  active_temp.loc[i, \"tobs\"]"
   ]
  },
  {
   "cell_type": "code",
   "execution_count": 70,
   "id": "10a0f974",
   "metadata": {},
   "outputs": [],
   "source": [
    "start = \"2016-05-05\"\n",
    "end = \"2016-05-10\""
   ]
  },
  {
   "cell_type": "code",
   "execution_count": 79,
   "id": "759af698",
   "metadata": {},
   "outputs": [],
   "source": [
    "#### active station\n",
    "    # Require data from DB\n",
    "session = Session(engine)\n",
    "    \n",
    "    # require temperature within the date range\n",
    "temp_data = session.query( func.min(measurement.tobs), func.avg(measurement.tobs) , func.max(measurement.tobs) ).\\\n",
    "    filter( measurement.date >= start ).filter( measurement.date <= end ).all()\n",
    "    \n",
    "    # Starting from the most recent data point in the database.\n",
    "latest_date = session.query(measurement.date).order_by(measurement.date.desc()).first()\n",
    "latest_date = [ i for i in latest_date ][0]\n",
    "    \n",
    "    # Starting from the most recent data point in the database.\n",
    "earliest_date = session.query(measurement.date).order_by(measurement.date.asc()).first()\n",
    "earliest_date = [ i for i in earliest_date ][0]\n",
    "    \n",
    "    # Close session\n",
    "session.close()\n",
    "    ####\n",
    "# transfer TMIN, TAVG, and TMAX to list\n",
    "temp_data = temp_data[0]\n",
    "temp_data = [ i for i in temp_data ]"
   ]
  },
  {
   "cell_type": "code",
   "execution_count": 80,
   "id": "a5e99e49",
   "metadata": {},
   "outputs": [],
   "source": [
    "start_date = dt.datetime.strptime( start , \"%Y-%m-%d\")\n",
    "end_date = dt.datetime.strptime( end, \"%Y-%m-%d\")\n",
    "    \n",
    "earliest_date = dt.datetime.strptime( earliest_date, \"%Y-%m-%d\")\n",
    "latest_date = dt.datetime.strptime( latest_date, \"%Y-%m-%d\")\n",
    "    \n",
    "date_from = max( start_date , earliest_date)\n",
    "date_to = min( end_date , latest_date)    "
   ]
  },
  {
   "cell_type": "code",
   "execution_count": 81,
   "id": "a2b9bda5",
   "metadata": {},
   "outputs": [
    {
     "data": {
      "text/plain": [
       "datetime.datetime(2016, 5, 5, 0, 0)"
      ]
     },
     "execution_count": 81,
     "metadata": {},
     "output_type": "execute_result"
    }
   ],
   "source": [
    "date_from"
   ]
  },
  {
   "cell_type": "code",
   "execution_count": 82,
   "id": "65565774",
   "metadata": {},
   "outputs": [
    {
     "data": {
      "text/plain": [
       "datetime.datetime(2016, 5, 10, 0, 0)"
      ]
     },
     "execution_count": 82,
     "metadata": {},
     "output_type": "execute_result"
    }
   ],
   "source": [
    "date_to"
   ]
  },
  {
   "cell_type": "code",
   "execution_count": 84,
   "id": "8526a407",
   "metadata": {},
   "outputs": [
    {
     "name": "stdout",
     "output_type": "stream",
     "text": [
      "2016-05-05\n"
     ]
    }
   ],
   "source": [
    "print( date_from.date() )"
   ]
  },
  {
   "cell_type": "code",
   "execution_count": 89,
   "id": "cc1c88e0",
   "metadata": {},
   "outputs": [
    {
     "data": {
      "text/plain": [
       "datetime.datetime(2016, 5, 5, 0, 0)"
      ]
     },
     "execution_count": 89,
     "metadata": {},
     "output_type": "execute_result"
    }
   ],
   "source": [
    "date_from"
   ]
  },
  {
   "cell_type": "code",
   "execution_count": null,
   "id": "4b8288ca",
   "metadata": {},
   "outputs": [],
   "source": [
    "date_from.strtime(  \"%Y-%m-%d\" )"
   ]
  }
 ],
 "metadata": {
  "kernelspec": {
   "display_name": "Python 3 (ipykernel)",
   "language": "python",
   "name": "python3"
  },
  "language_info": {
   "codemirror_mode": {
    "name": "ipython",
    "version": 3
   },
   "file_extension": ".py",
   "mimetype": "text/x-python",
   "name": "python",
   "nbconvert_exporter": "python",
   "pygments_lexer": "ipython3",
   "version": "3.10.11"
  }
 },
 "nbformat": 4,
 "nbformat_minor": 5
}
